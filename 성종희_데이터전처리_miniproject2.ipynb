{
 "cells": [
  {
   "cell_type": "code",
   "execution_count": 1,
   "id": "feafe0f7",
   "metadata": {},
   "outputs": [],
   "source": [
    "import pandas as pd\n",
    "import numpy as np"
   ]
  },
  {
   "cell_type": "code",
   "execution_count": 2,
   "id": "f8fc319d",
   "metadata": {},
   "outputs": [
    {
     "name": "stdout",
     "output_type": "stream",
     "text": [
      "[WinError 2] 지정된 파일을 찾을 수 없습니다: 'miniproject2'\n",
      "C:\\Users\\LG\\Documents\\ais7\\miniproject2\n"
     ]
    }
   ],
   "source": [
    "cd miniproject2"
   ]
  },
  {
   "cell_type": "code",
   "execution_count": 3,
   "id": "80c78ef9",
   "metadata": {},
   "outputs": [],
   "source": [
    "visitordf1 = pd.read_csv(\"data/raw/2018_월별_지역.csv\", encoding=\"cp949\")"
   ]
  },
  {
   "cell_type": "code",
   "execution_count": 4,
   "id": "62f4a3c0",
   "metadata": {},
   "outputs": [],
   "source": [
    "visitordf2 = pd.read_csv(\"data/raw/2019_월별_지역.csv\", encoding=\"cp949\")"
   ]
  },
  {
   "cell_type": "code",
   "execution_count": 5,
   "id": "6b9b216e",
   "metadata": {},
   "outputs": [],
   "source": [
    "visitordf = pd.concat([visitordf1, visitordf2])"
   ]
  },
  {
   "cell_type": "code",
   "execution_count": 6,
   "id": "67ed9e05",
   "metadata": {},
   "outputs": [],
   "source": [
    "visitordf[\"기준년월\"] = visitordf[\"기준년월\"].astype(str)"
   ]
  },
  {
   "cell_type": "code",
   "execution_count": 7,
   "id": "e6810a7f",
   "metadata": {},
   "outputs": [],
   "source": [
    "visitordf = visitordf.rename(columns={'지자체': '광역지자체', '전년 대비 방문자수 증감률' : '전년대비 방문자증감률'})"
   ]
  },
  {
   "cell_type": "code",
   "execution_count": 8,
   "id": "509a84f3",
   "metadata": {},
   "outputs": [],
   "source": [
    "visitordf[\"방문자 구분\"] = visitordf[\"방문자 구분\"].str[:3]"
   ]
  },
  {
   "cell_type": "code",
   "execution_count": 9,
   "id": "3c380f83",
   "metadata": {},
   "outputs": [],
   "source": [
    "visitordf = visitordf.drop(columns=[\"전년도 방문자수\"])"
   ]
  },
  {
   "cell_type": "code",
   "execution_count": 10,
   "id": "0ddb44ee",
   "metadata": {},
   "outputs": [],
   "source": [
    "visitordf = visitordf.groupby(by=[\"기준년월\", \"광역지자체\", \"방문자 구분\"]).sum()"
   ]
  },
  {
   "cell_type": "code",
   "execution_count": 11,
   "id": "20ce2bfe",
   "metadata": {},
   "outputs": [],
   "source": [
    "visitordf = visitordf.unstack(2)"
   ]
  },
  {
   "cell_type": "code",
   "execution_count": 12,
   "id": "0a49c18a",
   "metadata": {
    "scrolled": true
   },
   "outputs": [],
   "source": [
    "visitordf[\"외국인 비율\", \"외국인\"] = visitordf[\"방문자수\", \"외국인\"] / visitordf[\"방문자수\", \"외부방\"] * 100"
   ]
  },
  {
   "cell_type": "code",
   "execution_count": 13,
   "id": "05a8a34a",
   "metadata": {},
   "outputs": [],
   "source": [
    "visitordf = visitordf.stack(0, dropna=True)[\"외국인\"]"
   ]
  },
  {
   "cell_type": "code",
   "execution_count": 14,
   "id": "3fd5599d",
   "metadata": {},
   "outputs": [],
   "source": [
    "visitordf = visitordf.unstack(2)"
   ]
  },
  {
   "cell_type": "code",
   "execution_count": 15,
   "id": "3f1bf38d",
   "metadata": {},
   "outputs": [
    {
     "data": {
      "text/html": [
       "<div>\n",
       "<style scoped>\n",
       "    .dataframe tbody tr th:only-of-type {\n",
       "        vertical-align: middle;\n",
       "    }\n",
       "\n",
       "    .dataframe tbody tr th {\n",
       "        vertical-align: top;\n",
       "    }\n",
       "\n",
       "    .dataframe thead th {\n",
       "        text-align: right;\n",
       "    }\n",
       "</style>\n",
       "<table border=\"1\" class=\"dataframe\">\n",
       "  <thead>\n",
       "    <tr style=\"text-align: right;\">\n",
       "      <th></th>\n",
       "      <th></th>\n",
       "      <th>방문자수</th>\n",
       "      <th>외국인 비율</th>\n",
       "      <th>전년대비 방문자증감률</th>\n",
       "    </tr>\n",
       "    <tr>\n",
       "      <th>기준년월</th>\n",
       "      <th>광역지자체</th>\n",
       "      <th></th>\n",
       "      <th></th>\n",
       "      <th></th>\n",
       "    </tr>\n",
       "  </thead>\n",
       "  <tbody>\n",
       "    <tr>\n",
       "      <th rowspan=\"5\" valign=\"top\">201801</th>\n",
       "      <th>강원도</th>\n",
       "      <td>95574.0</td>\n",
       "      <td>0.926828</td>\n",
       "      <td>0.0</td>\n",
       "    </tr>\n",
       "    <tr>\n",
       "      <th>경기도</th>\n",
       "      <td>374434.0</td>\n",
       "      <td>0.862771</td>\n",
       "      <td>0.0</td>\n",
       "    </tr>\n",
       "    <tr>\n",
       "      <th>경상남도</th>\n",
       "      <td>86978.0</td>\n",
       "      <td>0.774812</td>\n",
       "      <td>0.0</td>\n",
       "    </tr>\n",
       "    <tr>\n",
       "      <th>경상북도</th>\n",
       "      <td>59444.0</td>\n",
       "      <td>0.512048</td>\n",
       "      <td>0.0</td>\n",
       "    </tr>\n",
       "    <tr>\n",
       "      <th>광주광역시</th>\n",
       "      <td>15493.0</td>\n",
       "      <td>0.304022</td>\n",
       "      <td>0.0</td>\n",
       "    </tr>\n",
       "    <tr>\n",
       "      <th>...</th>\n",
       "      <th>...</th>\n",
       "      <td>...</td>\n",
       "      <td>...</td>\n",
       "      <td>...</td>\n",
       "    </tr>\n",
       "    <tr>\n",
       "      <th rowspan=\"5\" valign=\"top\">201912</th>\n",
       "      <th>전라남도</th>\n",
       "      <td>189828.0</td>\n",
       "      <td>2.076962</td>\n",
       "      <td>35.6</td>\n",
       "    </tr>\n",
       "    <tr>\n",
       "      <th>전라북도</th>\n",
       "      <td>70202.0</td>\n",
       "      <td>0.993265</td>\n",
       "      <td>29.8</td>\n",
       "    </tr>\n",
       "    <tr>\n",
       "      <th>제주특별자치도</th>\n",
       "      <td>554198.0</td>\n",
       "      <td>11.004472</td>\n",
       "      <td>46.1</td>\n",
       "    </tr>\n",
       "    <tr>\n",
       "      <th>충청남도</th>\n",
       "      <td>135321.0</td>\n",
       "      <td>1.184867</td>\n",
       "      <td>26.7</td>\n",
       "    </tr>\n",
       "    <tr>\n",
       "      <th>충청북도</th>\n",
       "      <td>58522.0</td>\n",
       "      <td>0.761488</td>\n",
       "      <td>24.3</td>\n",
       "    </tr>\n",
       "  </tbody>\n",
       "</table>\n",
       "<p>408 rows × 3 columns</p>\n",
       "</div>"
      ],
      "text/plain": [
       "                    방문자수     외국인 비율  전년대비 방문자증감률\n",
       "기준년월   광역지자체                                    \n",
       "201801 강원도       95574.0   0.926828          0.0\n",
       "       경기도      374434.0   0.862771          0.0\n",
       "       경상남도      86978.0   0.774812          0.0\n",
       "       경상북도      59444.0   0.512048          0.0\n",
       "       광주광역시     15493.0   0.304022          0.0\n",
       "...                  ...        ...          ...\n",
       "201912 전라남도     189828.0   2.076962         35.6\n",
       "       전라북도      70202.0   0.993265         29.8\n",
       "       제주특별자치도  554198.0  11.004472         46.1\n",
       "       충청남도     135321.0   1.184867         26.7\n",
       "       충청북도      58522.0   0.761488         24.3\n",
       "\n",
       "[408 rows x 3 columns]"
      ]
     },
     "execution_count": 15,
     "metadata": {},
     "output_type": "execute_result"
    }
   ],
   "source": [
    "visitordf"
   ]
  },
  {
   "cell_type": "code",
   "execution_count": 31,
   "id": "b82f8344",
   "metadata": {},
   "outputs": [],
   "source": [
    "year_list = [\"2018\", \"2019\"]\n",
    "month_list = [\"01\", \"02\", \"03\", \"04\", \"05\", \"06\", \"07\", \"08\", \"09\", \"10\", \"11\", \"12\"]"
   ]
  },
  {
   "cell_type": "code",
   "execution_count": 32,
   "id": "cad6373f",
   "metadata": {},
   "outputs": [],
   "source": [
    "reservedf = pd.DataFrame()\n",
    "\n",
    "for year in year_list:\n",
    "    for month in month_list:\n",
    "        tempdf = pd.read_csv(\"data/raw/\"+year+month+\"_관광소비.csv\", encoding=\"cp949\")\n",
    "        tempdf[\"기준년월\"] = year+month\n",
    "        reservedf = pd.concat([reservedf, tempdf])"
   ]
  },
  {
   "cell_type": "code",
   "execution_count": 33,
   "id": "90a5b3ab",
   "metadata": {},
   "outputs": [],
   "source": [
    "reservedf = reservedf.drop(columns=[\"전년동기 소비액\", \"전년대비 소비증감률\"])"
   ]
  },
  {
   "cell_type": "code",
   "execution_count": 34,
   "id": "3e72e740",
   "metadata": {},
   "outputs": [
    {
     "data": {
      "text/html": [
       "<div>\n",
       "<style scoped>\n",
       "    .dataframe tbody tr th:only-of-type {\n",
       "        vertical-align: middle;\n",
       "    }\n",
       "\n",
       "    .dataframe tbody tr th {\n",
       "        vertical-align: top;\n",
       "    }\n",
       "\n",
       "    .dataframe thead th {\n",
       "        text-align: right;\n",
       "    }\n",
       "</style>\n",
       "<table border=\"1\" class=\"dataframe\">\n",
       "  <thead>\n",
       "    <tr style=\"text-align: right;\">\n",
       "      <th></th>\n",
       "      <th>광역지자체</th>\n",
       "      <th>소비액</th>\n",
       "      <th>기준년월</th>\n",
       "    </tr>\n",
       "  </thead>\n",
       "  <tbody>\n",
       "    <tr>\n",
       "      <th>0</th>\n",
       "      <td>서울특별시</td>\n",
       "      <td>220579456.0</td>\n",
       "      <td>201801</td>\n",
       "    </tr>\n",
       "    <tr>\n",
       "      <th>1</th>\n",
       "      <td>부산광역시</td>\n",
       "      <td>20497921.0</td>\n",
       "      <td>201801</td>\n",
       "    </tr>\n",
       "    <tr>\n",
       "      <th>2</th>\n",
       "      <td>대구광역시</td>\n",
       "      <td>1986504.0</td>\n",
       "      <td>201801</td>\n",
       "    </tr>\n",
       "    <tr>\n",
       "      <th>3</th>\n",
       "      <td>인천광역시</td>\n",
       "      <td>36395462.0</td>\n",
       "      <td>201801</td>\n",
       "    </tr>\n",
       "    <tr>\n",
       "      <th>4</th>\n",
       "      <td>광주광역시</td>\n",
       "      <td>916812.0</td>\n",
       "      <td>201801</td>\n",
       "    </tr>\n",
       "    <tr>\n",
       "      <th>...</th>\n",
       "      <td>...</td>\n",
       "      <td>...</td>\n",
       "      <td>...</td>\n",
       "    </tr>\n",
       "    <tr>\n",
       "      <th>12</th>\n",
       "      <td>전라북도</td>\n",
       "      <td>1207963.0</td>\n",
       "      <td>201912</td>\n",
       "    </tr>\n",
       "    <tr>\n",
       "      <th>13</th>\n",
       "      <td>전라남도</td>\n",
       "      <td>512962.0</td>\n",
       "      <td>201912</td>\n",
       "    </tr>\n",
       "    <tr>\n",
       "      <th>14</th>\n",
       "      <td>경상북도</td>\n",
       "      <td>1419722.0</td>\n",
       "      <td>201912</td>\n",
       "    </tr>\n",
       "    <tr>\n",
       "      <th>15</th>\n",
       "      <td>경상남도</td>\n",
       "      <td>3537608.0</td>\n",
       "      <td>201912</td>\n",
       "    </tr>\n",
       "    <tr>\n",
       "      <th>16</th>\n",
       "      <td>제주특별자치도</td>\n",
       "      <td>11940389.0</td>\n",
       "      <td>201912</td>\n",
       "    </tr>\n",
       "  </tbody>\n",
       "</table>\n",
       "<p>408 rows × 3 columns</p>\n",
       "</div>"
      ],
      "text/plain": [
       "      광역지자체          소비액    기준년월\n",
       "0     서울특별시  220579456.0  201801\n",
       "1     부산광역시   20497921.0  201801\n",
       "2     대구광역시    1986504.0  201801\n",
       "3     인천광역시   36395462.0  201801\n",
       "4     광주광역시     916812.0  201801\n",
       "..      ...          ...     ...\n",
       "12     전라북도    1207963.0  201912\n",
       "13     전라남도     512962.0  201912\n",
       "14     경상북도    1419722.0  201912\n",
       "15     경상남도    3537608.0  201912\n",
       "16  제주특별자치도   11940389.0  201912\n",
       "\n",
       "[408 rows x 3 columns]"
      ]
     },
     "execution_count": 34,
     "metadata": {},
     "output_type": "execute_result"
    }
   ],
   "source": [
    "reservedf"
   ]
  },
  {
   "cell_type": "code",
   "execution_count": 63,
   "id": "4e00450c",
   "metadata": {},
   "outputs": [],
   "source": [
    "df = pd.merge(visitordf,reservedf, how='inner',on=['기준년월', '광역지자체'])"
   ]
  },
  {
   "cell_type": "code",
   "execution_count": 64,
   "id": "933daa4e",
   "metadata": {},
   "outputs": [],
   "source": [
    "df['인당 소비액'] = df['소비액'] / df['방문자수']"
   ]
  },
  {
   "cell_type": "code",
   "execution_count": 65,
   "id": "4d50828b",
   "metadata": {},
   "outputs": [],
   "source": [
    "df['전월대비 방문자증감률'] = 0\n",
    "df['전년대비 인당소비증감률'] = 0"
   ]
  },
  {
   "cell_type": "code",
   "execution_count": 66,
   "id": "8ade375c",
   "metadata": {},
   "outputs": [
    {
     "name": "stderr",
     "output_type": "stream",
     "text": [
      "C:\\Users\\LG\\AppData\\Local\\Temp\\ipykernel_12076\\2870068271.py:2: SettingWithCopyWarning: \n",
      "A value is trying to be set on a copy of a slice from a DataFrame\n",
      "\n",
      "See the caveats in the documentation: https://pandas.pydata.org/pandas-docs/stable/user_guide/indexing.html#returning-a-view-versus-a-copy\n",
      "  df['전월대비 방문자증감률'].iloc[i] = ((df['방문자수'].iloc[i]/df['방문자수'].iloc[i-17]) -1) *100\n"
     ]
    }
   ],
   "source": [
    "for i in range(17, 408):\n",
    "    df['전월대비 방문자증감률'].iloc[i] = ((df['방문자수'].iloc[i]/df['방문자수'].iloc[i-17]) -1) *100"
   ]
  },
  {
   "cell_type": "code",
   "execution_count": 67,
   "id": "7c864a13",
   "metadata": {},
   "outputs": [
    {
     "name": "stderr",
     "output_type": "stream",
     "text": [
      "C:\\Users\\LG\\AppData\\Local\\Temp\\ipykernel_12076\\211470761.py:2: SettingWithCopyWarning: \n",
      "A value is trying to be set on a copy of a slice from a DataFrame\n",
      "\n",
      "See the caveats in the documentation: https://pandas.pydata.org/pandas-docs/stable/user_guide/indexing.html#returning-a-view-versus-a-copy\n",
      "  df['전년대비 인당소비증감률'].iloc[i+204] = ((df['인당 소비액'].iloc[i+204]/df['인당 소비액'].iloc[i]) -1) *100\n"
     ]
    }
   ],
   "source": [
    "for i in range(0, 204):\n",
    "    df['전년대비 인당소비증감률'].iloc[i+204] = ((df['인당 소비액'].iloc[i+204]/df['인당 소비액'].iloc[i]) -1) *100"
   ]
  },
  {
   "cell_type": "code",
   "execution_count": 68,
   "id": "da9f4f36",
   "metadata": {},
   "outputs": [],
   "source": [
    "df['방문자수'] = pd.to_numeric(df['방문자수'], downcast=\"unsigned\")\n",
    "df['소비액'] = pd.to_numeric(df['소비액'], downcast=\"unsigned\")"
   ]
  },
  {
   "cell_type": "code",
   "execution_count": 69,
   "id": "58acc2da",
   "metadata": {},
   "outputs": [
    {
     "data": {
      "text/plain": [
       "0       0.000000\n",
       "1       0.000000\n",
       "2       0.000000\n",
       "3       0.000000\n",
       "4       0.000000\n",
       "         ...    \n",
       "403    -3.830020\n",
       "404   -30.328894\n",
       "405     5.556296\n",
       "406    -7.572674\n",
       "407   -17.290406\n",
       "Name: 전월대비 방문자증감률, Length: 408, dtype: float64"
      ]
     },
     "execution_count": 69,
     "metadata": {},
     "output_type": "execute_result"
    }
   ],
   "source": [
    "df['전월대비 방문자증감률']"
   ]
  },
  {
   "cell_type": "code",
   "execution_count": 70,
   "id": "284274ca",
   "metadata": {},
   "outputs": [
    {
     "data": {
      "text/plain": [
       "0       0.000000\n",
       "1       0.000000\n",
       "2       0.000000\n",
       "3       0.000000\n",
       "4       0.000000\n",
       "         ...    \n",
       "403   -33.601079\n",
       "404   -16.248179\n",
       "405   -53.586654\n",
       "406   -33.890302\n",
       "407   -31.198008\n",
       "Name: 전년대비 인당소비증감률, Length: 408, dtype: float64"
      ]
     },
     "execution_count": 70,
     "metadata": {},
     "output_type": "execute_result"
    }
   ],
   "source": [
    "df['전년대비 인당소비증감률']"
   ]
  },
  {
   "cell_type": "code",
   "execution_count": 71,
   "id": "205a5496",
   "metadata": {},
   "outputs": [],
   "source": [
    "df = df[['기준년월', '광역지자체', '방문자수', '전월대비 방문자증감률', '전년대비 방문자증감률', '외국인 비율', '소비액', '인당 소비액', '전년대비 인당소비증감률']]"
   ]
  },
  {
   "cell_type": "code",
   "execution_count": 72,
   "id": "ea71b777",
   "metadata": {},
   "outputs": [],
   "source": [
    "df.to_csv(\"data/지역별_추이.csv\", encoding=\"cp949\", index=False)"
   ]
  },
  {
   "cell_type": "code",
   "execution_count": 73,
   "id": "d9d47bcd",
   "metadata": {},
   "outputs": [
    {
     "data": {
      "text/html": [
       "<div>\n",
       "<style scoped>\n",
       "    .dataframe tbody tr th:only-of-type {\n",
       "        vertical-align: middle;\n",
       "    }\n",
       "\n",
       "    .dataframe tbody tr th {\n",
       "        vertical-align: top;\n",
       "    }\n",
       "\n",
       "    .dataframe thead th {\n",
       "        text-align: right;\n",
       "    }\n",
       "</style>\n",
       "<table border=\"1\" class=\"dataframe\">\n",
       "  <thead>\n",
       "    <tr style=\"text-align: right;\">\n",
       "      <th></th>\n",
       "      <th>기준년월</th>\n",
       "      <th>광역지자체</th>\n",
       "      <th>방문자수</th>\n",
       "      <th>전월대비 방문자증감률</th>\n",
       "      <th>전년대비 방문자증감률</th>\n",
       "      <th>외국인 비율</th>\n",
       "      <th>소비액</th>\n",
       "      <th>인당 소비액</th>\n",
       "      <th>전년대비 인당소비증감률</th>\n",
       "    </tr>\n",
       "  </thead>\n",
       "  <tbody>\n",
       "    <tr>\n",
       "      <th>0</th>\n",
       "      <td>201801</td>\n",
       "      <td>강원도</td>\n",
       "      <td>95574</td>\n",
       "      <td>0.000000</td>\n",
       "      <td>0.0</td>\n",
       "      <td>0.926828</td>\n",
       "      <td>3056657</td>\n",
       "      <td>31.982098</td>\n",
       "      <td>0.000000</td>\n",
       "    </tr>\n",
       "    <tr>\n",
       "      <th>1</th>\n",
       "      <td>201801</td>\n",
       "      <td>경기도</td>\n",
       "      <td>374434</td>\n",
       "      <td>0.000000</td>\n",
       "      <td>0.0</td>\n",
       "      <td>0.862771</td>\n",
       "      <td>22074410</td>\n",
       "      <td>58.954075</td>\n",
       "      <td>0.000000</td>\n",
       "    </tr>\n",
       "    <tr>\n",
       "      <th>2</th>\n",
       "      <td>201801</td>\n",
       "      <td>경상남도</td>\n",
       "      <td>86978</td>\n",
       "      <td>0.000000</td>\n",
       "      <td>0.0</td>\n",
       "      <td>0.774812</td>\n",
       "      <td>2939692</td>\n",
       "      <td>33.798110</td>\n",
       "      <td>0.000000</td>\n",
       "    </tr>\n",
       "    <tr>\n",
       "      <th>3</th>\n",
       "      <td>201801</td>\n",
       "      <td>경상북도</td>\n",
       "      <td>59444</td>\n",
       "      <td>0.000000</td>\n",
       "      <td>0.0</td>\n",
       "      <td>0.512048</td>\n",
       "      <td>1184495</td>\n",
       "      <td>19.926233</td>\n",
       "      <td>0.000000</td>\n",
       "    </tr>\n",
       "    <tr>\n",
       "      <th>4</th>\n",
       "      <td>201801</td>\n",
       "      <td>광주광역시</td>\n",
       "      <td>15493</td>\n",
       "      <td>0.000000</td>\n",
       "      <td>0.0</td>\n",
       "      <td>0.304022</td>\n",
       "      <td>916812</td>\n",
       "      <td>59.175886</td>\n",
       "      <td>0.000000</td>\n",
       "    </tr>\n",
       "    <tr>\n",
       "      <th>...</th>\n",
       "      <td>...</td>\n",
       "      <td>...</td>\n",
       "      <td>...</td>\n",
       "      <td>...</td>\n",
       "      <td>...</td>\n",
       "      <td>...</td>\n",
       "      <td>...</td>\n",
       "      <td>...</td>\n",
       "      <td>...</td>\n",
       "    </tr>\n",
       "    <tr>\n",
       "      <th>403</th>\n",
       "      <td>201912</td>\n",
       "      <td>전라남도</td>\n",
       "      <td>189828</td>\n",
       "      <td>-3.830020</td>\n",
       "      <td>35.6</td>\n",
       "      <td>2.076962</td>\n",
       "      <td>512962</td>\n",
       "      <td>2.702246</td>\n",
       "      <td>-33.601079</td>\n",
       "    </tr>\n",
       "    <tr>\n",
       "      <th>404</th>\n",
       "      <td>201912</td>\n",
       "      <td>전라북도</td>\n",
       "      <td>70202</td>\n",
       "      <td>-30.328894</td>\n",
       "      <td>29.8</td>\n",
       "      <td>0.993265</td>\n",
       "      <td>1207963</td>\n",
       "      <td>17.206960</td>\n",
       "      <td>-16.248179</td>\n",
       "    </tr>\n",
       "    <tr>\n",
       "      <th>405</th>\n",
       "      <td>201912</td>\n",
       "      <td>제주특별자치도</td>\n",
       "      <td>554198</td>\n",
       "      <td>5.556296</td>\n",
       "      <td>46.1</td>\n",
       "      <td>11.004472</td>\n",
       "      <td>11940389</td>\n",
       "      <td>21.545348</td>\n",
       "      <td>-53.586654</td>\n",
       "    </tr>\n",
       "    <tr>\n",
       "      <th>406</th>\n",
       "      <td>201912</td>\n",
       "      <td>충청남도</td>\n",
       "      <td>135321</td>\n",
       "      <td>-7.572674</td>\n",
       "      <td>26.7</td>\n",
       "      <td>1.184867</td>\n",
       "      <td>1506580</td>\n",
       "      <td>11.133379</td>\n",
       "      <td>-33.890302</td>\n",
       "    </tr>\n",
       "    <tr>\n",
       "      <th>407</th>\n",
       "      <td>201912</td>\n",
       "      <td>충청북도</td>\n",
       "      <td>58522</td>\n",
       "      <td>-17.290406</td>\n",
       "      <td>24.3</td>\n",
       "      <td>0.761488</td>\n",
       "      <td>1081161</td>\n",
       "      <td>18.474437</td>\n",
       "      <td>-31.198008</td>\n",
       "    </tr>\n",
       "  </tbody>\n",
       "</table>\n",
       "<p>408 rows × 9 columns</p>\n",
       "</div>"
      ],
      "text/plain": [
       "       기준년월    광역지자체    방문자수  전월대비 방문자증감률  전년대비 방문자증감률     외국인 비율       소비액  \\\n",
       "0    201801      강원도   95574     0.000000          0.0   0.926828   3056657   \n",
       "1    201801      경기도  374434     0.000000          0.0   0.862771  22074410   \n",
       "2    201801     경상남도   86978     0.000000          0.0   0.774812   2939692   \n",
       "3    201801     경상북도   59444     0.000000          0.0   0.512048   1184495   \n",
       "4    201801    광주광역시   15493     0.000000          0.0   0.304022    916812   \n",
       "..      ...      ...     ...          ...          ...        ...       ...   \n",
       "403  201912     전라남도  189828    -3.830020         35.6   2.076962    512962   \n",
       "404  201912     전라북도   70202   -30.328894         29.8   0.993265   1207963   \n",
       "405  201912  제주특별자치도  554198     5.556296         46.1  11.004472  11940389   \n",
       "406  201912     충청남도  135321    -7.572674         26.7   1.184867   1506580   \n",
       "407  201912     충청북도   58522   -17.290406         24.3   0.761488   1081161   \n",
       "\n",
       "        인당 소비액  전년대비 인당소비증감률  \n",
       "0    31.982098      0.000000  \n",
       "1    58.954075      0.000000  \n",
       "2    33.798110      0.000000  \n",
       "3    19.926233      0.000000  \n",
       "4    59.175886      0.000000  \n",
       "..         ...           ...  \n",
       "403   2.702246    -33.601079  \n",
       "404  17.206960    -16.248179  \n",
       "405  21.545348    -53.586654  \n",
       "406  11.133379    -33.890302  \n",
       "407  18.474437    -31.198008  \n",
       "\n",
       "[408 rows x 9 columns]"
      ]
     },
     "execution_count": 73,
     "metadata": {},
     "output_type": "execute_result"
    }
   ],
   "source": [
    "pd.read_csv(\"data/지역별_추이.csv\", encoding=\"cp949\")"
   ]
  },
  {
   "cell_type": "code",
   "execution_count": null,
   "id": "47cd738e",
   "metadata": {},
   "outputs": [],
   "source": []
  }
 ],
 "metadata": {
  "kernelspec": {
   "display_name": "Python 3 (ipykernel)",
   "language": "python",
   "name": "python3"
  },
  "language_info": {
   "codemirror_mode": {
    "name": "ipython",
    "version": 3
   },
   "file_extension": ".py",
   "mimetype": "text/x-python",
   "name": "python",
   "nbconvert_exporter": "python",
   "pygments_lexer": "ipython3",
   "version": "3.9.13"
  }
 },
 "nbformat": 4,
 "nbformat_minor": 5
}
